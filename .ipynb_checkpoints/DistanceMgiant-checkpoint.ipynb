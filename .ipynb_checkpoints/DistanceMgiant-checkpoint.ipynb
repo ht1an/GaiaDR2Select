{
 "cells": [
  {
   "cell_type": "code",
   "execution_count": 1,
   "metadata": {},
   "outputs": [],
   "source": [
    "%matplotlib inline\n",
    "# common functions used in the project of VR-R in GAC direction\n",
    "import numpy as np\n",
    "#import scipy.linalg as splin\n",
    "import numpy.linalg as nl\n",
    "import matplotlib.pyplot as plt\n",
    "import matplotlib\n",
    "matplotlib.rc('xtick',labelsize=20)\n",
    "matplotlib.rc('ytick',labelsize=20)\n",
    "font = {'size' : 20}\n",
    "matplotlib.rc('font', **font)\n",
    "from matplotlib import cm\n",
    "from matplotlib.colors import Normalize\n",
    "from scipy.optimize import curve_fit\n",
    "import scipy.stats as stats\n",
    "import scipy.special as special\n",
    "import astropy.io.fits as fits\n",
    "import emcee\n",
    "import corner\n",
    "import pandas as pd\n",
    "import csv\n",
    "from astropy.coordinates import SkyCoord  # High-level coordinates\n",
    "from astropy.coordinates import ICRS, Galactic, FK4, FK5  # Low-level frames\n",
    "from astropy.coordinates import Angle, Latitude, Longitude  # Angles\n",
    "import astropy.units as u"
   ]
  },
  {
   "cell_type": "code",
   "execution_count": 2,
   "metadata": {},
   "outputs": [],
   "source": [
    "dpath = \"/Users/htian/Documents/work/data/Gaia_Mgiant_candidate/\"\n",
    "ppath = \"/Users/htian/Documents/work/plots/Gaia_Mgiant_candidate/\"\n",
    "fn = \"GDR2_Mgiant_candidate_color2_b20_gmag10_20_rest_4000.fits\""
   ]
  },
  {
   "cell_type": "code",
   "execution_count": 3,
   "metadata": {},
   "outputs": [],
   "source": [
    "dt = fits.open(dpath+fn)\n",
    "data = dt[1].data"
   ]
  },
  {
   "cell_type": "code",
   "execution_count": 4,
   "metadata": {},
   "outputs": [
    {
     "name": "stdout",
     "output_type": "stream",
     "text": [
      "name = 'col1'; format = 'J'; null = -2147483648\n",
      "name = 'solution_id'; format = 'K'; null = -9223372036854775808\n",
      "name = 'designation'; format = '28A'\n",
      "name = 'source_id_1'; format = 'K'; null = -9223372036854775808\n",
      "name = 'random_index'; format = 'J'; null = -2147483648\n",
      "name = 'ref_epoch'; format = 'E'\n",
      "name = 'ra'; format = 'D'\n",
      "name = 'ra_error'; format = 'D'\n",
      "name = 'dec'; format = 'D'\n",
      "name = 'dec_error'; format = 'D'\n",
      "name = 'parallax'; format = 'D'\n",
      "name = 'parallax_error'; format = 'D'\n",
      "name = 'parallax_over_error'; format = 'D'\n",
      "name = 'pmra'; format = 'D'\n",
      "name = 'pmra_error'; format = 'D'\n",
      "name = 'pmdec'; format = 'D'\n",
      "name = 'pmdec_error'; format = 'D'\n",
      "name = 'ra_dec_corr'; format = 'D'\n",
      "name = 'ra_parallax_corr'; format = 'D'\n",
      "name = 'ra_pmra_corr'; format = 'D'\n",
      "name = 'ra_pmdec_corr'; format = 'D'\n",
      "name = 'dec_parallax_corr'; format = 'D'\n",
      "name = 'dec_pmra_corr'; format = 'D'\n",
      "name = 'dec_pmdec_corr'; format = 'D'\n",
      "name = 'parallax_pmra_corr'; format = 'D'\n",
      "name = 'parallax_pmdec_corr'; format = 'D'\n",
      "name = 'pmra_pmdec_corr'; format = 'D'\n",
      "name = 'astrometric_n_obs_al'; format = 'I'; null = -32768\n",
      "name = 'astrometric_n_obs_ac'; format = 'I'; null = -32768\n",
      "name = 'astrometric_n_good_obs_al'; format = 'I'; null = -32768\n",
      "name = 'astrometric_n_bad_obs_al'; format = 'I'; null = -32768\n",
      "name = 'astrometric_gof_al'; format = 'D'\n",
      "name = 'astrometric_chi2_al'; format = 'D'\n",
      "name = 'astrometric_excess_noise'; format = 'D'\n",
      "name = 'astrometric_excess_noise_sig'; format = 'D'\n",
      "name = 'astrometric_params_solved'; format = 'I'; null = -32768\n",
      "name = 'astrometric_primary_flag'; format = 'L'\n",
      "name = 'astrometric_weight_al'; format = 'D'\n",
      "name = 'astrometric_pseudo_colour'; format = 'D'\n",
      "name = 'astrometric_pseudo_colour_error'; format = 'D'\n",
      "name = 'mean_varpi_factor_al'; format = 'D'\n",
      "name = 'astrometric_matched_observations'; format = 'I'; null = -32768\n",
      "name = 'visibility_periods_used'; format = 'I'; null = -32768\n",
      "name = 'astrometric_sigma5d_max'; format = 'D'\n",
      "name = 'frame_rotator_object_type'; format = 'I'; null = -32768\n",
      "name = 'matched_observations'; format = 'I'; null = -32768\n",
      "name = 'duplicated_source'; format = 'L'\n",
      "name = 'phot_g_n_obs'; format = 'I'; null = -32768\n",
      "name = 'phot_g_mean_flux'; format = 'D'\n",
      "name = 'phot_g_mean_flux_error'; format = 'D'\n",
      "name = 'phot_g_mean_flux_over_error'; format = 'D'\n",
      "name = 'phot_g_mean_mag'; format = 'D'\n",
      "name = 'phot_bp_n_obs'; format = 'I'; null = -32768\n",
      "name = 'phot_bp_mean_flux'; format = 'D'\n",
      "name = 'phot_bp_mean_flux_error'; format = 'D'\n",
      "name = 'phot_bp_mean_flux_over_error'; format = 'D'\n",
      "name = 'phot_bp_mean_mag'; format = 'D'\n",
      "name = 'phot_rp_n_obs'; format = 'I'; null = -32768\n",
      "name = 'phot_rp_mean_flux'; format = 'D'\n",
      "name = 'phot_rp_mean_flux_error'; format = 'D'\n",
      "name = 'phot_rp_mean_flux_over_error'; format = 'D'\n",
      "name = 'phot_rp_mean_mag'; format = 'D'\n",
      "name = 'phot_bp_rp_excess_factor'; format = 'D'\n",
      "name = 'phot_proc_mode'; format = 'I'; null = -32768\n",
      "name = 'bp_rp'; format = 'D'\n",
      "name = 'bp_g'; format = 'D'\n",
      "name = 'g_rp'; format = 'D'\n",
      "name = 'radial_velocity'; format = 'D'\n",
      "name = 'radial_velocity_error'; format = 'D'\n",
      "name = 'rv_nb_transits'; format = 'I'; null = -32768\n",
      "name = 'rv_template_teff'; format = 'E'\n",
      "name = 'rv_template_logg'; format = 'E'\n",
      "name = 'rv_template_fe_h'; format = 'E'\n",
      "name = 'phot_variable_flag'; format = '13A'\n",
      "name = 'l'; format = 'D'\n",
      "name = 'b'; format = 'D'\n",
      "name = 'ecl_lon'; format = 'D'\n",
      "name = 'ecl_lat'; format = 'D'\n",
      "name = 'priam_flags'; format = 'D'\n",
      "name = 'teff_val'; format = 'D'\n",
      "name = 'teff_percentile_lower'; format = 'D'\n",
      "name = 'teff_percentile_upper'; format = 'D'\n",
      "name = 'a_g_val'; format = 'D'\n",
      "name = 'a_g_percentile_lower'; format = 'D'\n",
      "name = 'a_g_percentile_upper'; format = 'D'\n",
      "name = 'e_bp_min_rp_val'; format = 'D'\n",
      "name = 'e_bp_min_rp_percentile_lower'; format = 'D'\n",
      "name = 'e_bp_min_rp_percentile_upper'; format = 'D'\n",
      "name = 'flame_flags'; format = 'D'\n",
      "name = 'radius_val'; format = 'D'\n",
      "name = 'radius_percentile_lower'; format = 'D'\n",
      "name = 'radius_percentile_upper'; format = 'D'\n",
      "name = 'lum_val'; format = 'D'\n",
      "name = 'lum_percentile_lower'; format = 'D'\n",
      "name = 'lum_percentile_upper'; format = 'D'\n",
      "name = 'source_id_2'; format = 'K'; null = -9223372036854775808\n",
      "name = 'r_est'; format = 'D'; unit = 'pc'\n",
      "name = 'r_lo'; format = 'D'; unit = 'pc'\n",
      "name = 'r_hi'; format = 'D'; unit = 'pc'\n",
      "name = 'r_len'; format = 'D'; unit = 'pc'\n",
      "name = 'result_flag'; format = 'I'; null = -32768\n",
      "name = 'modality_flag'; format = 'I'; null = -32768\n",
      "name = 'source_id_2a'; format = 'K'; null = -9223372036854775808\n"
     ]
    }
   ],
   "source": [
    "for i in dt[1].columns:\n",
    "    print(i)"
   ]
  },
  {
   "cell_type": "code",
   "execution_count": 10,
   "metadata": {},
   "outputs": [],
   "source": [
    "ra = np.array(data[\"ra\"])\n",
    "dec = np.array(data[\"dec\"])\n",
    "ra = Longitude(ra, unit=u.deg)\n",
    "dec = Latitude(dec, unit=u.deg)\n",
    "c = SkyCoord(ra, dec, frame='icrs')"
   ]
  },
  {
   "cell_type": "code",
   "execution_count": null,
   "metadata": {},
   "outputs": [],
   "source": []
  },
  {
   "cell_type": "code",
   "execution_count": null,
   "metadata": {},
   "outputs": [],
   "source": []
  },
  {
   "cell_type": "code",
   "execution_count": null,
   "metadata": {},
   "outputs": [],
   "source": []
  },
  {
   "cell_type": "code",
   "execution_count": null,
   "metadata": {},
   "outputs": [],
   "source": []
  },
  {
   "cell_type": "code",
   "execution_count": null,
   "metadata": {},
   "outputs": [],
   "source": []
  },
  {
   "cell_type": "code",
   "execution_count": null,
   "metadata": {},
   "outputs": [],
   "source": []
  },
  {
   "cell_type": "code",
   "execution_count": null,
   "metadata": {},
   "outputs": [],
   "source": []
  },
  {
   "cell_type": "code",
   "execution_count": null,
   "metadata": {},
   "outputs": [],
   "source": []
  },
  {
   "cell_type": "code",
   "execution_count": null,
   "metadata": {},
   "outputs": [],
   "source": []
  },
  {
   "cell_type": "code",
   "execution_count": null,
   "metadata": {},
   "outputs": [],
   "source": [
    "# # this is used to select Mgiant branch stars\n",
    "# arr_age1 = [\"1\",\"2\",\"5\"]\n",
    "# arr_age2 = [\"7\",\"8\",\"9\"]\n",
    "# fmt = ['r-','b-','g-','m-','']\n",
    "# fmt = ['r.','b.','g.','m.','']\n",
    "# fig = plt.figure(figsize=(4,4))\n",
    "# for i in range(0,3):\n",
    "#     s_age1 = arr_age1[i]\n",
    "#     for j in range(0,3):\n",
    "#         s_age2 = arr_age2[j]\n",
    "#         fn = \"CMD_\"+s_age1+\"e\"+s_age2+\"_0152.dat\"\n",
    "# #         fn = \"CMD_1e10_0152.dat\"\n",
    "#         print(fn,'----   ',fmt[i])\n",
    "#         data = np.loadtxt(dpath+fn,skiprows=8)\n",
    "#         data = data[:-1,:]\n",
    "#         Gmag = data[:,-3]\n",
    "#         BPmag = data[:,-2]\n",
    "#         RPmag = data[:,-1]\n",
    "#         plt.plot(BPmag[:-1]-RPmag[:-1],Gmag[:-1],fmt[i],markersize=0.5)\n",
    "#         m_min = 1.\n",
    "#         m_max = 30\n",
    "# #         m_max = 1.04\n",
    "#         ind = (data[:,2]>m_min) & (data[:,2]<m_max)\n",
    "# #         plt.scatter(BPmag[ind]-RPmag[ind],Gmag[ind],c=data[ind,2],cmap=\"gist_rainbow\",vmin=m_min,vmax=m_max,s=5)\n",
    "# #         indout = ((BPmag-RPmag)>2.5) & (data[:,2]>m_min) & (data[:,2]<m_max)\n",
    "# #         output = np.zeros((len(Gmag[indout]),3))\n",
    "# #         output[:,0] = Gmag[indout]\n",
    "# #         output[:,1] = BPmag[indout]-RPmag[indout]\n",
    "# #         output[:,2] = data[indout,2]\n",
    "# #         np.savetxt(dpath+\"MGB_\"+fn,output,fmt=\"%f\")\n",
    "# # plt.colorbar()\n",
    "# fn = \"CMD_1e10_0152.dat\"\n",
    "# print(fn,'----   ',fmt[i])\n",
    "# data = np.loadtxt(dpath+fn,skiprows=8)\n",
    "# data = data[:-1,:]\n",
    "# Gmag = data[:,-3]\n",
    "# BPmag = data[:,-2]\n",
    "# RPmag = data[:,-1]\n",
    "# plt.plot(BPmag[:-1]-RPmag[:-1],Gmag[:-1],'k.',markersize=0.5)\n",
    "# plt.plot([2.5,2.5],[15,-15],'k--')\n",
    "# # plt.axis([-2.5,6,10,-15])\n",
    "# plt.axis([-.5,6,10,-8])\n",
    "# plt.xlabel(\"Bp-Rp\")\n",
    "# plt.ylabel(\"G\")"
   ]
  },
  {
   "cell_type": "code",
   "execution_count": null,
   "metadata": {},
   "outputs": [],
   "source": [
    "# data = np.loadtxt(dpath+\"isochrone_5e8_0152.dat\",skiprows=8)\n",
    "# Gmag = data[:,-3]\n",
    "# BPmag = data[:,-2]\n",
    "# RPmag = data[:,-1]"
   ]
  },
  {
   "cell_type": "code",
   "execution_count": null,
   "metadata": {},
   "outputs": [],
   "source": [
    "# data0 = np.loadtxt(\"/Users/htian/Downloads/output243166570858.dat\",skiprows=8)\n",
    "# Gmag0 = data0[:,-3]\n",
    "# BPmag0 = data0[:,-2]\n",
    "# RPmag0 = data0[:,-1]"
   ]
  },
  {
   "cell_type": "code",
   "execution_count": null,
   "metadata": {},
   "outputs": [],
   "source": [
    "# plt.plot(BPmag-RPmag,Gmag,'k.')\n",
    "# plt.plot(BPmag0-RPmag0,Gmag0,'r.')\n",
    "# plt.plot(BPmag-RPmag,Gmag,'k.')\n",
    "# plt.axis([-1,5,15,-10])"
   ]
  },
  {
   "cell_type": "code",
   "execution_count": null,
   "metadata": {},
   "outputs": [],
   "source": []
  },
  {
   "cell_type": "code",
   "execution_count": null,
   "metadata": {},
   "outputs": [],
   "source": [
    "10**((15.5+2)/5)/100\n"
   ]
  },
  {
   "cell_type": "code",
   "execution_count": null,
   "metadata": {},
   "outputs": [],
   "source": [
    "e = np.zeros(5)\n",
    "a = b = c = np.zeros_like(e)"
   ]
  },
  {
   "cell_type": "code",
   "execution_count": null,
   "metadata": {},
   "outputs": [],
   "source": []
  },
  {
   "cell_type": "code",
   "execution_count": null,
   "metadata": {},
   "outputs": [],
   "source": []
  },
  {
   "cell_type": "code",
   "execution_count": null,
   "metadata": {},
   "outputs": [],
   "source": []
  },
  {
   "cell_type": "code",
   "execution_count": null,
   "metadata": {},
   "outputs": [],
   "source": []
  },
  {
   "cell_type": "code",
   "execution_count": null,
   "metadata": {},
   "outputs": [],
   "source": []
  },
  {
   "cell_type": "code",
   "execution_count": null,
   "metadata": {},
   "outputs": [],
   "source": []
  },
  {
   "cell_type": "code",
   "execution_count": null,
   "metadata": {},
   "outputs": [],
   "source": [
    "\n"
   ]
  }
 ],
 "metadata": {
  "kernelspec": {
   "display_name": "Python 3",
   "language": "python",
   "name": "python3"
  },
  "language_info": {
   "codemirror_mode": {
    "name": "ipython",
    "version": 3
   },
   "file_extension": ".py",
   "mimetype": "text/x-python",
   "name": "python",
   "nbconvert_exporter": "python",
   "pygments_lexer": "ipython3",
   "version": "3.6.5"
  }
 },
 "nbformat": 4,
 "nbformat_minor": 2
}
